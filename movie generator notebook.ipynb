{
 "cells": [
  {
   "cell_type": "markdown",
   "id": "cc452856",
   "metadata": {},
   "source": [
    "good movies generator program\n",
    "supported genres: [Comedy,Fantasy,Crime,Film-Noir,Mystery,Documentary,Drama,Musical,Romance,Biography,History,Animation,Action,Adventure,Family,War,Music,\n",
    "Horror,Western,Mystery,Sport,Sci-Fi,Thriller,Adult,Musical]"
   ]
  },
  {
   "cell_type": "code",
   "execution_count": 75,
   "id": "436b88e3",
   "metadata": {},
   "outputs": [],
   "source": [
    "import numpy as np\n",
    "import pandas as pd "
   ]
  },
  {
   "cell_type": "code",
   "execution_count": 47,
   "id": "f97c4405",
   "metadata": {},
   "outputs": [
    {
     "name": "stderr",
     "output_type": "stream",
     "text": [
      "C:\\Users\\thoma\\AppData\\Local\\Temp\\ipykernel_16844\\4239457989.py:2: DtypeWarning: Columns (4) have mixed types. Specify dtype option on import or set low_memory=False.\n",
      "  basics = pd.read_csv('title.basics.tsv.gz',delimiter='\\t')\n"
     ]
    }
   ],
   "source": [
    "ratings = pd.read_csv('title.ratings.tsv.gz',delimiter='\\t')\n",
    "basics = pd.read_csv('title.basics.tsv.gz',delimiter='\\t')\n",
    "basics = basics.loc[basics['titleType']!='tvEpisode']"
   ]
  },
  {
   "cell_type": "markdown",
   "id": "dcc2bd08",
   "metadata": {},
   "source": [
    "giving new ratings to movies by modifying ratings dataframe"
   ]
  },
  {
   "cell_type": "code",
   "execution_count": 49,
   "id": "f953764e",
   "metadata": {},
   "outputs": [],
   "source": [
    "ratings['logNumVotes']=np.log(ratings['numVotes'])\n",
    "ratings['logNumVotes']/=ratings['logNumVotes'].max()\n",
    "ratings['averageRating']/=ratings['averageRating'].max()\n",
    "ratings['newrating']=ratings['averageRating']*ratings['logNumVotes']"
   ]
  },
  {
   "cell_type": "markdown",
   "id": "ce996bff",
   "metadata": {},
   "source": [
    "parameters: lenght (short,movie), genres (takes in a {} of genres), top_rated (25,50,75 percentiles, startdate"
   ]
  },
  {
   "cell_type": "code",
   "execution_count": 61,
   "id": "25bb55d6",
   "metadata": {},
   "outputs": [],
   "source": [
    "def filter1(lenght='movie',genres='All',date=0):\n",
    "    \n",
    "    #cleaning the basics dataframe out of the movies that have no 'startDate' registered\n",
    "    date_presence=basics['startYear']!=r'\\N'\n",
    "    Basics=basics[date_presence]\n",
    "    \n",
    "    #setting the startdate as the minimum of all by default\n",
    "    Basics['startYear'] = Basics['startYear'].astype(int)   \n",
    "    if date==0:\n",
    "        date=Basics['startYear'].min()\n",
    "    \n",
    "    #filtering now to reduce runtime\n",
    "    filtered_movies=Basics.loc[(Basics['startYear']>=date) & (Basics['titleType']==lenght)]\n",
    "    if genres=='All':\n",
    "        return filtered_movies\n",
    "    else:\n",
    "        if len(genres)>3:\n",
    "            return 'Error, maximum allowed: 3 genres'\n",
    "        else:\n",
    "            #select the rows containing the genres specified\n",
    "            genre_filter = filtered_movies['genres'].apply(lambda x: all(genre in x.split(',') for genre in genres))\n",
    "            filtered_movies=filtered_movies[genre_filter]\n",
    "            assert filtered_movies.shape[0]!=0 \n",
    "            return filtered_movies"
   ]
  },
  {
   "cell_type": "markdown",
   "id": "b6540ad8",
   "metadata": {},
   "source": [
    "merging the two dataframes into a unique one "
   ]
  },
  {
   "cell_type": "code",
   "execution_count": 63,
   "id": "2676f236",
   "metadata": {},
   "outputs": [],
   "source": [
    "def merge_dataframes(filtered_movies,ratings):\n",
    "    rated_movies=filtered_movies.merge(ratings, how='inner',on='tconst')\n",
    "    return rated_movies"
   ]
  },
  {
   "cell_type": "markdown",
   "id": "3e9f7ca2",
   "metadata": {},
   "source": [
    "isolate the movies that have a rating in the right-hand part of the distribution, the quantile is chosen by the user"
   ]
  },
  {
   "cell_type": "code",
   "execution_count": 66,
   "id": "7cc43ba2",
   "metadata": {},
   "outputs": [],
   "source": [
    "def quality_filter(top_percentile, rated_movies):\n",
    "    assert top_percentile<=100\n",
    "    quant=1-(top_percentile/100)\n",
    "    quality_filter=rated_movies['newrating'].quantile(quant)\n",
    "    final_movies=rated_movies[rated_movies['newrating']>=quality_filter]\n",
    "    return final_movies"
   ]
  },
  {
   "cell_type": "markdown",
   "id": "67e87ef1",
   "metadata": {},
   "source": [
    "final function that will call filter1, merge_dataframes and quality_filter and produce a sample given by the user\n",
    "all the paramters have to match"
   ]
  },
  {
   "cell_type": "code",
   "execution_count": 67,
   "id": "60c5bf0e",
   "metadata": {},
   "outputs": [],
   "source": [
    "def generate_movies(Lenght='movie',Genres='All',Date=0,Top=1,n=10):\n",
    "    filtered_movies=filter1(Lenght,Genres,Date)\n",
    "    rated_movies=merge_dataframes(filtered_movies,ratings)\n",
    "    final_movies=quality_filter(Top,rated_movies)\n",
    "    suggestions=final_movies.sample(n)\n",
    "    relevant_info=['primaryTitle','originalTitle','startYear','runtimeMinutes','genres','newrating']\n",
    "    return suggestions[relevant_info]"
   ]
  },
  {
   "cell_type": "code",
   "execution_count": 78,
   "id": "b263f34f",
   "metadata": {
    "scrolled": true
   },
   "outputs": [
    {
     "data": {
      "text/html": [
       "<div>\n",
       "<style scoped>\n",
       "    .dataframe tbody tr th:only-of-type {\n",
       "        vertical-align: middle;\n",
       "    }\n",
       "\n",
       "    .dataframe tbody tr th {\n",
       "        vertical-align: top;\n",
       "    }\n",
       "\n",
       "    .dataframe thead th {\n",
       "        text-align: right;\n",
       "    }\n",
       "</style>\n",
       "<table border=\"1\" class=\"dataframe\">\n",
       "  <thead>\n",
       "    <tr style=\"text-align: right;\">\n",
       "      <th></th>\n",
       "      <th>primaryTitle</th>\n",
       "      <th>originalTitle</th>\n",
       "      <th>startYear</th>\n",
       "      <th>runtimeMinutes</th>\n",
       "      <th>genres</th>\n",
       "      <th>newrating</th>\n",
       "    </tr>\n",
       "  </thead>\n",
       "  <tbody>\n",
       "    <tr>\n",
       "      <th>298</th>\n",
       "      <td>Alice in Wonderland</td>\n",
       "      <td>Alice in Wonderland</td>\n",
       "      <td>2010</td>\n",
       "      <td>108</td>\n",
       "      <td>Adventure,Family,Fantasy</td>\n",
       "      <td>0.559060</td>\n",
       "    </tr>\n",
       "    <tr>\n",
       "      <th>202</th>\n",
       "      <td>Pirates of the Caribbean: Dead Man's Chest</td>\n",
       "      <td>Pirates of the Caribbean: Dead Man's Chest</td>\n",
       "      <td>2006</td>\n",
       "      <td>151</td>\n",
       "      <td>Action,Adventure,Fantasy</td>\n",
       "      <td>0.674031</td>\n",
       "    </tr>\n",
       "    <tr>\n",
       "      <th>728</th>\n",
       "      <td>Fantastic Beasts and Where to Find Them</td>\n",
       "      <td>Fantastic Beasts and Where to Find Them</td>\n",
       "      <td>2016</td>\n",
       "      <td>132</td>\n",
       "      <td>Adventure,Family,Fantasy</td>\n",
       "      <td>0.635758</td>\n",
       "    </tr>\n",
       "    <tr>\n",
       "      <th>585</th>\n",
       "      <td>Thor: The Dark World</td>\n",
       "      <td>Thor: The Dark World</td>\n",
       "      <td>2013</td>\n",
       "      <td>112</td>\n",
       "      <td>Action,Adventure,Fantasy</td>\n",
       "      <td>0.616734</td>\n",
       "    </tr>\n",
       "    <tr>\n",
       "      <th>662</th>\n",
       "      <td>Star Wars: Episode VIII - The Last Jedi</td>\n",
       "      <td>Star Wars: Episode VIII - The Last Jedi</td>\n",
       "      <td>2017</td>\n",
       "      <td>152</td>\n",
       "      <td>Action,Adventure,Fantasy</td>\n",
       "      <td>0.622344</td>\n",
       "    </tr>\n",
       "    <tr>\n",
       "      <th>503</th>\n",
       "      <td>Avatar: The Way of Water</td>\n",
       "      <td>Avatar: The Way of Water</td>\n",
       "      <td>2022</td>\n",
       "      <td>192</td>\n",
       "      <td>Action,Adventure,Fantasy</td>\n",
       "      <td>0.661374</td>\n",
       "    </tr>\n",
       "    <tr>\n",
       "      <th>178</th>\n",
       "      <td>The Chronicles of Narnia: The Lion, the Witch ...</td>\n",
       "      <td>The Chronicles of Narnia: The Lion, the Witch ...</td>\n",
       "      <td>2005</td>\n",
       "      <td>143</td>\n",
       "      <td>Adventure,Family,Fantasy</td>\n",
       "      <td>0.601374</td>\n",
       "    </tr>\n",
       "    <tr>\n",
       "      <th>356</th>\n",
       "      <td>The Hobbit: The Desolation of Smaug</td>\n",
       "      <td>The Hobbit: The Desolation of Smaug</td>\n",
       "      <td>2013</td>\n",
       "      <td>161</td>\n",
       "      <td>Adventure,Drama,Fantasy</td>\n",
       "      <td>0.706016</td>\n",
       "    </tr>\n",
       "    <tr>\n",
       "      <th>238</th>\n",
       "      <td>Prince of Persia: The Sands of Time</td>\n",
       "      <td>Prince of Persia: The Sands of Time</td>\n",
       "      <td>2010</td>\n",
       "      <td>116</td>\n",
       "      <td>Action,Adventure,Fantasy</td>\n",
       "      <td>0.560017</td>\n",
       "    </tr>\n",
       "    <tr>\n",
       "      <th>154</th>\n",
       "      <td>Harry Potter and the Prisoner of Azkaban</td>\n",
       "      <td>Harry Potter and the Prisoner of Azkaban</td>\n",
       "      <td>2004</td>\n",
       "      <td>142</td>\n",
       "      <td>Adventure,Family,Fantasy</td>\n",
       "      <td>0.714126</td>\n",
       "    </tr>\n",
       "  </tbody>\n",
       "</table>\n",
       "</div>"
      ],
      "text/plain": [
       "                                          primaryTitle  \\\n",
       "298                                Alice in Wonderland   \n",
       "202         Pirates of the Caribbean: Dead Man's Chest   \n",
       "728            Fantastic Beasts and Where to Find Them   \n",
       "585                               Thor: The Dark World   \n",
       "662            Star Wars: Episode VIII - The Last Jedi   \n",
       "503                           Avatar: The Way of Water   \n",
       "178  The Chronicles of Narnia: The Lion, the Witch ...   \n",
       "356                The Hobbit: The Desolation of Smaug   \n",
       "238                Prince of Persia: The Sands of Time   \n",
       "154           Harry Potter and the Prisoner of Azkaban   \n",
       "\n",
       "                                         originalTitle  startYear  \\\n",
       "298                                Alice in Wonderland       2010   \n",
       "202         Pirates of the Caribbean: Dead Man's Chest       2006   \n",
       "728            Fantastic Beasts and Where to Find Them       2016   \n",
       "585                               Thor: The Dark World       2013   \n",
       "662            Star Wars: Episode VIII - The Last Jedi       2017   \n",
       "503                           Avatar: The Way of Water       2022   \n",
       "178  The Chronicles of Narnia: The Lion, the Witch ...       2005   \n",
       "356                The Hobbit: The Desolation of Smaug       2013   \n",
       "238                Prince of Persia: The Sands of Time       2010   \n",
       "154           Harry Potter and the Prisoner of Azkaban       2004   \n",
       "\n",
       "    runtimeMinutes                    genres  newrating  \n",
       "298            108  Adventure,Family,Fantasy   0.559060  \n",
       "202            151  Action,Adventure,Fantasy   0.674031  \n",
       "728            132  Adventure,Family,Fantasy   0.635758  \n",
       "585            112  Action,Adventure,Fantasy   0.616734  \n",
       "662            152  Action,Adventure,Fantasy   0.622344  \n",
       "503            192  Action,Adventure,Fantasy   0.661374  \n",
       "178            143  Adventure,Family,Fantasy   0.601374  \n",
       "356            161   Adventure,Drama,Fantasy   0.706016  \n",
       "238            116  Action,Adventure,Fantasy   0.560017  \n",
       "154            142  Adventure,Family,Fantasy   0.714126  "
      ]
     },
     "execution_count": 78,
     "metadata": {},
     "output_type": "execute_result"
    }
   ],
   "source": [
    "generate_movies('movie',['Fantasy','Adventure'],Date=1990,Top=5,n=10)"
   ]
  }
 ],
 "metadata": {
  "kernelspec": {
   "display_name": "Python 3 (ipykernel)",
   "language": "python",
   "name": "python3"
  },
  "language_info": {
   "codemirror_mode": {
    "name": "ipython",
    "version": 3
   },
   "file_extension": ".py",
   "mimetype": "text/x-python",
   "name": "python",
   "nbconvert_exporter": "python",
   "pygments_lexer": "ipython3",
   "version": "3.11.5"
  }
 },
 "nbformat": 4,
 "nbformat_minor": 5
}
